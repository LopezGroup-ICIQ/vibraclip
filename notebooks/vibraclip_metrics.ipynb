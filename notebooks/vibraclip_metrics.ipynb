{
 "cells": [
  {
   "cell_type": "code",
   "execution_count": null,
   "metadata": {},
   "outputs": [],
   "source": [
    "import pickle\n",
    "import json\n",
    "\n",
    "import numpy as np\n",
    "import pandas as pd\n",
    "\n",
    "from rdkit import Chem\n",
    "from rdkit.Chem import Draw\n",
    "\n",
    "from tqdm import tqdm\n",
    "\n",
    "import matplotlib.pyplot as plt\n",
    "%matplotlib inline"
   ]
  },
  {
   "cell_type": "code",
   "execution_count": null,
   "metadata": {},
   "outputs": [],
   "source": [
    "# Loading Pickle file from callback\n",
    "with open(\"./outputs/eval_exp_vibraclip_graph_ir_raman_mass_allpairs_09_3.pkl\", \"rb\") as p_file:\n",
    "    data = pickle.load(p_file)\n",
    "p_file.close()"
   ]
  },
  {
   "cell_type": "code",
   "execution_count": null,
   "metadata": {},
   "outputs": [],
   "source": [
    "# Variables\n",
    "num_labels = len(list(data.keys()))\n",
    "print(num_labels)"
   ]
  },
  {
   "cell_type": "markdown",
   "metadata": {},
   "source": [
    "### **1) General Retrieval Accuracy Metrics**"
   ]
  },
  {
   "cell_type": "code",
   "execution_count": null,
   "metadata": {},
   "outputs": [],
   "source": [
    "# Metrics\n",
    "def top_k_accuracy(retrieved, relevant_item, k):\n",
    "    \"\"\"Measures the proportion of relevant items in the top K retrieved results\"\"\"\n",
    "    acc = 1.0 if relevant_item in retrieved[:k] else 0.0\n",
    "    index = retrieved.index(relevant_item) + 1\n",
    "    return acc, index\n",
    "\n",
    "def mean_average_precision(retrieved, relevant_item):\n",
    "    \"\"\"Computes the average precision for each query and then takes the mean over all queries\"\"\"\n",
    "    if relevant_item in retrieved:\n",
    "        index = retrieved.index(relevant_item) + 1\n",
    "        return 1 / index\n",
    "    else:\n",
    "        return 0.0"
   ]
  },
  {
   "cell_type": "code",
   "execution_count": null,
   "metadata": {},
   "outputs": [],
   "source": [
    "# Initialize accumulators for each top K value\n",
    "top_k_values = [1, 5, 10, 15, 20, 25]\n",
    "total_acc = {k: 0 for k in top_k_values}\n",
    "\n",
    "# Loop over the data\n",
    "top_k_dict = {k: [] for k in top_k_values}\n",
    "for idx, (smile_target, smile_cand) in tqdm(enumerate(data.items())):\n",
    "    # Get the candidates labels \n",
    "    sorted_labels = list(smile_cand.keys())\n",
    "    \n",
    "    # Compute accuracy for each K and update the corresponding total\n",
    "    for k in top_k_values:\n",
    "        top_k_acc, top_k_idx = top_k_accuracy(retrieved=sorted_labels, relevant_item=smile_target, k=k)\n",
    "        total_acc[k] += top_k_acc\n",
    "        # Storing positive ones\n",
    "        if top_k_acc == 1 and top_k_idx == k: \n",
    "            top_k_dict[k].append({smile_target: smile_cand})\n",
    "\n",
    "# Calculate and print average accuracies\n",
    "top_k_acc_dict = {}\n",
    "for k in top_k_values:\n",
    "    avg_acc = total_acc[k] / num_labels\n",
    "    top_k_acc_dict.update({str(k): avg_acc})\n",
    "    print(f\"Average Acc. Top {k}: {avg_acc*100}\")"
   ]
  },
  {
   "cell_type": "code",
   "execution_count": null,
   "metadata": {},
   "outputs": [],
   "source": [
    "print(top_k_acc_dict)"
   ]
  },
  {
   "cell_type": "code",
   "execution_count": null,
   "metadata": {},
   "outputs": [],
   "source": [
    "# Plot\n",
    "plt.plot(list(top_k_acc_dict.keys()), list(top_k_acc_dict.values()), \"--\")\n",
    "plt.scatter(list(top_k_acc_dict.keys()), list(top_k_acc_dict.values()))\n",
    "plt.xlabel(\"Top K\")\n",
    "plt.ylabel(\"Retrieval Accuracy\")\n",
    "plt.show()"
   ]
  },
  {
   "cell_type": "markdown",
   "metadata": {},
   "source": [
    "### 2) **Grid Molecules at Top K**"
   ]
  },
  {
   "cell_type": "code",
   "execution_count": null,
   "metadata": {},
   "outputs": [],
   "source": [
    "def _get_grid_plot(smiles_target, smiles_cand, similarity):\n",
    "    \"\"\"Method to build a grid of molecules\"\"\"\n",
    "    # Convert SMILES to RDKIT Molecule objects\n",
    "    molec_target = Chem.MolFromSmiles(smiles_target)\n",
    "    molec_cand = [Chem.MolFromSmiles(smile) for smile in smiles_cand]\n",
    "\n",
    "    # Create a 5x5 grid plot\n",
    "    fig, axes = plt.subplots(6, 5, figsize=(10,10))\n",
    "\n",
    "    # Top left cell for the target molecule\n",
    "    ax = axes[0, 0]\n",
    "    img_target = Draw.MolToImage(molec_target, size=(250, 250))\n",
    "    ax.imshow(img_target)\n",
    "    ax.set_axis_off()\n",
    "\n",
    "    # Hide the rest of the cells in the first row\n",
    "    for ax in axes[0, 1:]:\n",
    "        ax.set_visible(False)\n",
    "\n",
    "    for i, ax in enumerate(axes[1:, :].flat):\n",
    "        if i < len(molec_cand):\n",
    "            img = Draw.MolToImage(molec_cand[i], size=(250, 250))\n",
    "            ax.imshow(img)\n",
    "            ax.set_axis_off()\n",
    "            ax.text(0.5, -0.1, f\"{similarity[i]:.3f}\", ha='center', va='top', transform=ax.transAxes, fontsize=11)\n",
    "        else:\n",
    "            ax.set_visible(False)\n",
    "\n",
    "    plt.tight_layout()\n",
    "    return fig"
   ]
  },
  {
   "cell_type": "code",
   "execution_count": null,
   "metadata": {},
   "outputs": [],
   "source": [
    "def plot_random_top_k(top_k, top_k_dict):\n",
    "    \"\"\"Select a random entry from the top K list and plot it\"\"\"\n",
    "    # Get the list for the specified top K\n",
    "    top_k_list = top_k_dict[top_k]\n",
    "    \n",
    "    # Choose a random index\n",
    "    rand_idx = np.random.randint(0, len(top_k_list))\n",
    "    print(rand_idx)\n",
    "    \n",
    "    # Extract the target and candidates\n",
    "    smile_data = top_k_list[rand_idx]\n",
    "    smile_target = list(smile_data.keys())[0]\n",
    "    smile_cands_dict = next(iter(smile_data.values()))\n",
    "    \n",
    "    # Generate the plot\n",
    "    return _get_grid_plot(smile_target, list(smile_cands_dict.keys()), list(smile_cands_dict.values()))"
   ]
  },
  {
   "cell_type": "code",
   "execution_count": null,
   "metadata": {},
   "outputs": [],
   "source": [
    "# Top K=1\n",
    "plot_k_1 = plot_random_top_k(1, top_k_dict)\n",
    "#plot_k_1.savefig(\"./exp_top1.svg\")\n"
   ]
  },
  {
   "cell_type": "code",
   "execution_count": null,
   "metadata": {},
   "outputs": [],
   "source": [
    "# Top K=5\n",
    "plot_k_5 = plot_random_top_k(5, top_k_dict)\n",
    "#plot_k_5.savefig(\"./exp_top5.svg\")"
   ]
  },
  {
   "cell_type": "code",
   "execution_count": null,
   "metadata": {},
   "outputs": [],
   "source": [
    "# Top K=10\n",
    "plot_k_10 = plot_random_top_k(10, top_k_dict)\n",
    "#plot_k_10.savefig(\"./exp_top10.svg\")"
   ]
  },
  {
   "cell_type": "code",
   "execution_count": null,
   "metadata": {},
   "outputs": [],
   "source": [
    "# Top K=15\n",
    "plot_k_15 = plot_random_top_k(15, top_k_dict)\n",
    "#plot_k_15.savefig(\"./exp_top15.svg\")"
   ]
  },
  {
   "cell_type": "code",
   "execution_count": null,
   "metadata": {},
   "outputs": [],
   "source": [
    "# Top K=20\n",
    "plot_k_20 = plot_random_top_k(20, top_k_dict)\n",
    "#plot_k_20.savefig(\"./exp_top20.svg\")"
   ]
  },
  {
   "cell_type": "code",
   "execution_count": null,
   "metadata": {},
   "outputs": [],
   "source": [
    "# Top K=25\n",
    "plot_k_25 = plot_random_top_k(25, top_k_dict)\n",
    "#plot_k_25.savefig(\"./exp_top25.svg\")"
   ]
  }
 ],
 "metadata": {
  "kernelspec": {
   "display_name": "ir-clip_gpu-2",
   "language": "python",
   "name": "python3"
  },
  "language_info": {
   "codemirror_mode": {
    "name": "ipython",
    "version": 3
   },
   "file_extension": ".py",
   "mimetype": "text/x-python",
   "name": "python",
   "nbconvert_exporter": "python",
   "pygments_lexer": "ipython3",
   "version": "3.10.16"
  }
 },
 "nbformat": 4,
 "nbformat_minor": 2
}
