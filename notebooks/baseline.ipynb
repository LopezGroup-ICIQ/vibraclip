{
 "cells": [
  {
   "cell_type": "markdown",
   "id": "3eef28ac",
   "metadata": {},
   "source": [
    "## **Non-Learning Cross-Modal Baseline**"
   ]
  },
  {
   "cell_type": "markdown",
   "id": "fc4f9998",
   "metadata": {},
   "source": [
    "In this notebook, we demonstrate cross-modal retrieval accuracy on the QM9S dataset without relying on deep learning. The approach uses Morgan fingerprints generated with RDKit and measures cosine similarity between these fingerprints and vibrational spectra (IR and Raman).\n",
    "\n",
    "To reproduce the results from this notebook, the user needs to download the supplementary data from the [Zenodo repository](https://doi.org/10.5281/zenodo.15348391), and place the `qm9s_ir_raman.pkl` file inside the data folder."
   ]
  },
  {
   "cell_type": "code",
   "execution_count": null,
   "id": "5200a8af",
   "metadata": {},
   "outputs": [],
   "source": [
    "# Import libraries\n",
    "import os\n",
    "import random\n",
    "import pickle\n",
    "import numpy as np\n",
    "import pandas as pd\n",
    "import scipy.interpolate as interp\n",
    "from rdkit import Chem\n",
    "from rdkit.Chem import AllChem, rdFingerprintGenerator\n",
    "from sklearn.preprocessing import MinMaxScaler\n",
    "from tqdm import tqdm\n",
    "import seaborn as sns\n",
    "import matplotlib.pyplot as plt\n",
    "%matplotlib inline\n",
    "\n",
    "width = 4  # Because it looks good\n",
    "fontsize = 12\n",
    "rc = {'figure.figsize': (width, width),\n",
    "      'font.size': fontsize,\n",
    "      'axes.labelsize': fontsize,\n",
    "      'axes.titlesize': fontsize,\n",
    "      'xtick.labelsize': fontsize,\n",
    "      'ytick.labelsize': fontsize,\n",
    "      'legend.fontsize': fontsize-2.5}\n",
    "sns.set(rc=rc)\n",
    "sns.set_style('ticks')"
   ]
  },
  {
   "cell_type": "code",
   "execution_count": 2,
   "id": "29d384f2",
   "metadata": {},
   "outputs": [],
   "source": [
    "# Load pickle file with QM9S dataset\n",
    "with open(\"../data/qm9s_ir_raman.pkl\", \"rb\") as p_file:\n",
    "    qm9s_data = pickle.load(p_file)\n",
    "p_file.close()"
   ]
  },
  {
   "cell_type": "code",
   "execution_count": 3,
   "id": "565a910e",
   "metadata": {},
   "outputs": [],
   "source": [
    "# Function to compute the morgan fingerprints from SMILES\n",
    "\n",
    "def compute_morgan_fps(data, radius=2, n_bits=2048):\n",
    "    # Empty dict to store fingerprints\n",
    "    morgan_fps_dict = {}\n",
    "    # Initialize fingerprint generator\n",
    "    morgan_gen = rdFingerprintGenerator.GetMorganGenerator(radius=radius, fpSize=n_bits)\n",
    "    # Loop over dataset\n",
    "    for key, value in data.items():\n",
    "        # Get the smiles rep\n",
    "        smiles_rep = value[\"smile\"]\n",
    "        # Convert to rdkit mol object\n",
    "        mol = Chem.MolFromSmiles(smiles_rep)\n",
    "        # Saturate with Hs\n",
    "        mol_hs = Chem.AddHs(mol)\n",
    "        # Embed molecule\n",
    "        has_conf = AllChem.EmbedMolecule(mol_hs, AllChem.ETKDG())\n",
    "        # Check mol has conformation\n",
    "        if has_conf == 0:\n",
    "            # Get morgan fingerprints\n",
    "            fp = morgan_gen.GetFingerprint(mol_hs)\n",
    "            # Convert to numpy array\n",
    "            arr = np.zeros((n_bits,), dtype=int)\n",
    "            AllChem.DataStructs.ConvertToNumpyArray(fp, arr)\n",
    "            # Append to dict\n",
    "            morgan_fps_dict.update({key: np.array(arr)})\n",
    "        else:\n",
    "            # Filtered smiles without conformer\n",
    "            morgan_fps_dict.update({key: None})\n",
    "    return morgan_fps_dict"
   ]
  },
  {
   "cell_type": "code",
   "execution_count": 4,
   "id": "80bed6b5",
   "metadata": {},
   "outputs": [],
   "source": [
    "# Collect all morgan fingerprints in a dict\n",
    "morgan_fps_dict = compute_morgan_fps(data=qm9s_data)"
   ]
  },
  {
   "cell_type": "code",
   "execution_count": 5,
   "id": "0b82cfb2",
   "metadata": {},
   "outputs": [],
   "source": [
    "# Shuffle and collect a random 10% as the test set\n",
    "def sample_dict(data, fraction=0.1, seed=42):\n",
    "    \"\"\"Method to shuffle and select a fraction of dictionaries\"\"\"\n",
    "    # Clean data from Nones\n",
    "    data_clean = {k: v for k, v in data.items() if v is not None}\n",
    "    # Shuffle indices\n",
    "    keys = list(data_clean.keys())\n",
    "    random.seed(seed)\n",
    "    random.shuffle(keys)\n",
    "    # Get fraction\n",
    "    n_select = max(1, int(len(keys) * fraction))\n",
    "    selected_keys = keys[:n_select]\n",
    "    return {k: data_clean[k] for k in selected_keys}\n",
    "\n",
    "# Generate the 10% random split\n",
    "morgan_fps_dict_split = sample_dict(data=morgan_fps_dict, fraction=0.1)\n",
    "indices_split_list = list(morgan_fps_dict_split.keys())"
   ]
  },
  {
   "cell_type": "code",
   "execution_count": 6,
   "id": "757d8e1b",
   "metadata": {},
   "outputs": [],
   "source": [
    "# Dictionary for index - SMILES relationship\n",
    "index_to_smiles = {k: v[\"smile\"] for k, v in qm9s_data.items()}"
   ]
  },
  {
   "cell_type": "code",
   "execution_count": 7,
   "id": "b48bdfca",
   "metadata": {},
   "outputs": [],
   "source": [
    "# Collect all IR and Raman spectra in different dicts\n",
    "\n",
    "def interpolate_spec(arr, spec_dim=1750):\n",
    "    \"\"\"Method to interpolate the spectra into a given dimension\"\"\"\n",
    "    # Initialize the interpolation method\n",
    "    y_interp = interp.interp1d(np.arange(arr.size), arr)\n",
    "    # Interpolate to a new dimension\n",
    "    y_new = y_interp(np.linspace(0, arr.size - 1, spec_dim))\n",
    "    return y_new\n",
    "\n",
    "def normalize_spec(arr):\n",
    "    \"\"\"Method to normalize spectral data using MinMax method\"\"\"\n",
    "    # Initialize scaler\n",
    "    scaler = MinMaxScaler(feature_range=(0, 1))\n",
    "    # Transform\n",
    "    arr_scaled = scaler.fit_transform(arr.reshape(-1, 1))\n",
    "    return arr_scaled.reshape(-1)\n",
    "\n",
    "\n",
    "def collect_spectra(data, indices_split_list, spec_type=\"ir_spectra\"):\n",
    "    # Initialize empty dict for specs\n",
    "    spectra_dict = {}\n",
    "    # Loop over data\n",
    "    for n in indices_split_list:\n",
    "        # retrieve spectra as 2D array\n",
    "        spectra = data[n][spec_type]\n",
    "        # Interpolate only intensity (y-axis)\n",
    "        spec_interp = interpolate_spec(spectra[1, :])\n",
    "        # Normalize between 0 and 1\n",
    "        spec_norm = normalize_spec(spec_interp)\n",
    "        # Append to dict\n",
    "        spectra_dict.update({n: spec_norm})\n",
    "    return spectra_dict\n"
   ]
  },
  {
   "cell_type": "code",
   "execution_count": 8,
   "id": "3ee6931b",
   "metadata": {},
   "outputs": [],
   "source": [
    "# Generate IR and Raman spectra dicts\n",
    "ir_spectra_dict = collect_spectra(data=qm9s_data, \n",
    "                                  indices_split_list=indices_split_list, \n",
    "                                  spec_type=\"ir_spectra\"\n",
    ")\n",
    "\n",
    "raman_spectra_dict = collect_spectra(data=qm9s_data, \n",
    "                                     indices_split_list=indices_split_list, \n",
    "                                     spec_type=\"raman_spectra\"\n",
    ")"
   ]
  },
  {
   "cell_type": "code",
   "execution_count": 9,
   "id": "c6bfa66c",
   "metadata": {},
   "outputs": [],
   "source": [
    "# Random projection head similar to VibraCLIP (without learning)\n",
    "\n",
    "def random_projection_head(arr, out_dim=861, seed=42):\n",
    "    \"\"\"Method to project to out_dim using a fixed random matrix\"\"\"\n",
    "    rng = np.random.default_rng(seed)\n",
    "    # Create fixed matrix once (seeded)\n",
    "    proj_matrix = rng.standard_normal((len(arr), out_dim))\n",
    "    proj_matrix /= np.linalg.norm(proj_matrix, axis=0, keepdims=True)\n",
    "    return arr @ proj_matrix\n",
    "\n",
    "def generate_projected_dict(dict, indices_split_list, index_to_smiles):\n",
    "    \"\"\"Method to loop over data to project vectors from mols and spectra\"\"\"\n",
    "    # Empty dict\n",
    "    proj_dict = {}\n",
    "    # Loop over data\n",
    "    for n in indices_split_list:\n",
    "        # Get SMILES\n",
    "        smiles = index_to_smiles[n]\n",
    "        # get array to be projected\n",
    "        arr = dict[n]\n",
    "        if arr is not None:\n",
    "            # randomly project vector to a given dimension\n",
    "            arr_proj = random_projection_head(arr, out_dim=861)\n",
    "            # Append to dict\n",
    "            proj_dict.update({str(smiles): arr_proj})\n",
    "    return proj_dict"
   ]
  },
  {
   "cell_type": "code",
   "execution_count": 10,
   "id": "3f708786",
   "metadata": {},
   "outputs": [],
   "source": [
    "# Project morgan fingerprints and spectra\n",
    "morgan_fps_dict_proj = generate_projected_dict(dict=morgan_fps_dict_split, \n",
    "                                               indices_split_list=indices_split_list,\n",
    "                                               index_to_smiles=index_to_smiles,\n",
    ")\n",
    "\n",
    "ir_spectra_dict_proj = generate_projected_dict(dict=ir_spectra_dict, \n",
    "                                               indices_split_list=indices_split_list,\n",
    "                                               index_to_smiles=index_to_smiles,\n",
    ")\n",
    "\n",
    "raman_spectra_dict_proj = generate_projected_dict(dict=raman_spectra_dict, \n",
    "                                                  indices_split_list=indices_split_list,\n",
    "                                                  index_to_smiles=index_to_smiles,\n",
    ")"
   ]
  },
  {
   "cell_type": "code",
   "execution_count": 16,
   "id": "a08ded4a",
   "metadata": {},
   "outputs": [],
   "source": [
    "# Retrieval strategy as vibraclip callback\n",
    "\n",
    "def dual_retrieval(mol_dict, spectra_dict):\n",
    "    \"\"\"Method to quantify the retrieval accuracy for dual modalities (G, IR) or (G, Raman)\"\"\"\n",
    "    # Empty dict\n",
    "    similarities_dict = {}\n",
    "\n",
    "    # Convert projected vectors to matrices\n",
    "    mol_matrix = np.array(list(mol_dict.values()))\n",
    "    spectra_matrix = np.array(list(spectra_dict.values()))\n",
    "\n",
    "    # Pre-compute norms\n",
    "    mol_norms = np.linalg.norm(mol_matrix, axis=1)\n",
    "    spectra_norms = np.linalg.norm(spectra_matrix, axis=1)\n",
    "\n",
    "    # Progress Bar\n",
    "    pbar = tqdm(\n",
    "        total=len(spectra_dict.keys()),\n",
    "        desc=\"Dual Retrieval Strategy\",\n",
    "    )\n",
    "\n",
    "    # Compute cosine similarity using matrix operations\n",
    "    pbar_idx = 0\n",
    "    for idx, (smile_target, s_emb_vec) in enumerate(spectra_dict.items()):\n",
    "        # Calculate similarities\n",
    "        similarities = np.dot(mol_matrix, s_emb_vec) / (mol_norms * spectra_norms[idx])\n",
    "\n",
    "        # Create dict with similarities\n",
    "        candidates_dict = {\n",
    "            str(key): float(sim)\n",
    "            for key, sim in zip(mol_dict.keys(), similarities)\n",
    "        }\n",
    "\n",
    "        # Sorting\n",
    "        candidates_dict_sort = dict(\n",
    "            sorted(\n",
    "                candidates_dict.items(),\n",
    "                key=lambda item: item[1],\n",
    "                reverse=True,\n",
    "            )\n",
    "        )\n",
    "\n",
    "        # Append candidates dict\n",
    "        similarities_dict.update({str(smile_target): candidates_dict_sort})\n",
    "\n",
    "        # Update pbar\n",
    "        pbar_idx += 1\n",
    "        pbar.update(1)\n",
    "\n",
    "    return similarities_dict\n"
   ]
  },
  {
   "cell_type": "code",
   "execution_count": 17,
   "id": "9395a666",
   "metadata": {},
   "outputs": [
    {
     "name": "stderr",
     "output_type": "stream",
     "text": [
      "Dual Retrieval Strategy: 100%|██████████| 12740/12740 [01:16<00:00, 165.75it/s]\n",
      "Dual Retrieval Strategy: 100%|██████████| 12740/12740 [01:17<00:00, 165.39it/s]\n"
     ]
    }
   ],
   "source": [
    "# Dual Retrieval\n",
    "ir_similarities = dual_retrieval(mol_dict=morgan_fps_dict_proj, \n",
    "                                 spectra_dict=ir_spectra_dict_proj\n",
    ")\n",
    "\n",
    "raman_similarities = dual_retrieval(mol_dict=morgan_fps_dict_proj,\n",
    "                                    spectra_dict=raman_spectra_dict_proj\n",
    ")"
   ]
  },
  {
   "cell_type": "code",
   "execution_count": 18,
   "id": "3b53147e",
   "metadata": {},
   "outputs": [],
   "source": [
    "# Dual Retrieval Accuracy\n",
    "\n",
    "def top_k_accuracy(retrieved, relevant_item, k):\n",
    "    \"\"\"Measures the proportion of relevant items in the top K retrieved results\"\"\"\n",
    "    acc = 1.0 if relevant_item in retrieved[:k] else 0.0\n",
    "    index = retrieved.index(relevant_item) + 1\n",
    "    return acc, index\n",
    "\n",
    "def retrieval_accuracy_dict(data):\n",
    "    \"\"\"Method to compute the retrieval accuracy based on the similatiries dict\"\"\"\n",
    "    # Get number of total entries in the split\n",
    "    num_labels = len(list(data.keys()))\n",
    "    # Initialize accumulators for each top K value\n",
    "    top_k_values = [1, 5, 10, 15, 20, 25]\n",
    "    total_acc = {k: 0 for k in top_k_values}\n",
    "\n",
    "    # Loop over the data\n",
    "    top_k_dict = {k: [] for k in top_k_values}\n",
    "    for idx, (smile_target, smile_cand) in tqdm(enumerate(data.items())):\n",
    "        # Get the candidates labels\n",
    "        sorted_labels = list(smile_cand.keys())\n",
    "\n",
    "        # Compute accuracy for each K and update the corresponding total\n",
    "        for k in top_k_values:\n",
    "            top_k_acc, top_k_idx = top_k_accuracy(retrieved=sorted_labels, relevant_item=smile_target, k=k)\n",
    "            total_acc[k] += top_k_acc\n",
    "            # Storing positive ones\n",
    "            if top_k_acc == 1 and top_k_idx == k:\n",
    "                top_k_dict[k].append({smile_target: smile_cand})\n",
    "    \n",
    "    # Calculate average accuracies\n",
    "    top_k_acc_dict = {}\n",
    "    for k in top_k_values:\n",
    "        avg_acc = total_acc[k] / num_labels\n",
    "        top_k_acc_dict.update({str(k): avg_acc})\n",
    "    return top_k_acc_dict"
   ]
  },
  {
   "cell_type": "code",
   "execution_count": 19,
   "id": "33127625",
   "metadata": {},
   "outputs": [
    {
     "name": "stderr",
     "output_type": "stream",
     "text": [
      "12740it [00:03, 3574.93it/s]\n",
      "12740it [00:03, 3551.09it/s]\n"
     ]
    }
   ],
   "source": [
    "# Get Retrieval Accuracies for dual retrieval\n",
    "ir_top_acc_dict = retrieval_accuracy_dict(data=ir_similarities)\n",
    "\n",
    "raman_top_acc_dict = retrieval_accuracy_dict(data=raman_similarities)"
   ]
  },
  {
   "cell_type": "code",
   "execution_count": 21,
   "id": "fb208a9c",
   "metadata": {},
   "outputs": [
    {
     "data": {
      "image/png": "[encoded data removed]",
      "text/plain": [
       "<Figure size 400x400 with 1 Axes>"
      ]
     },
     "metadata": {},
     "output_type": "display_data"
    }
   ],
   "source": [
    "# Dual retrieval accuracy plot\n",
    "## IR\n",
    "plt.plot(list(ir_top_acc_dict.keys()), list(ir_top_acc_dict.values()), \"--\")\n",
    "plt.scatter(list(ir_top_acc_dict.keys()), list(ir_top_acc_dict.values()), marker=\"s\", label=\"FP - IR\")\n",
    "## Raman\n",
    "plt.plot(list(raman_top_acc_dict.keys()), list(raman_top_acc_dict.values()), \"--\")\n",
    "plt.scatter(list(raman_top_acc_dict.keys()), list(raman_top_acc_dict.values()), marker=\"s\", label=\"FP - Raman\")\n",
    "# Settings\n",
    "plt.yticks(np.arange(0, 0.0021, 0.001), [f\"{ytick * 100:.1f}%\" for ytick in np.arange(0, 0.0021, 0.001)])\n",
    "plt.xlabel(\"Top K\")\n",
    "plt.ylabel(\"Retrieval Accuracy\")\n",
    "plt.legend(loc=\"lower right\")\n",
    "plt.savefig(\"./dual_retrieval_morgan_fp.svg\")"
   ]
  }
 ],
 "metadata": {
  "kernelspec": {
   "display_name": "vibraclip_gpu",
   "language": "python",
   "name": "python3"
  },
  "language_info": {
   "codemirror_mode": {
    "name": "ipython",
    "version": 3
   },
   "file_extension": ".py",
   "mimetype": "text/x-python",
   "name": "python",
   "nbconvert_exporter": "python",
   "pygments_lexer": "ipython3",
   "version": "3.10.18"
  }
 },
 "nbformat": 4,
 "nbformat_minor": 5
}
